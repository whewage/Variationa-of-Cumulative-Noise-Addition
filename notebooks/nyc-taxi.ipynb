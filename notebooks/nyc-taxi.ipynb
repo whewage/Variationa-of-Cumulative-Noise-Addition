{
 "cells": [
  {
   "cell_type": "code",
   "execution_count": 1,
   "metadata": {
    "scrolled": true
   },
   "outputs": [
    {
     "name": "stdout",
     "output_type": "stream",
     "text": [
      "Retrieving org/clojure/clojure/1.8.0/clojure-1.8.0.jar from central\n",
      "Compiling ppdsp.classifier.base\n",
      "Compiling ppdsp.classifier.inspectablearf\n",
      "Compiling ppdsp.classifier.moa-classifier\n",
      "Compiling ppdsp.classifier.random\n",
      "Compiling ppdsp.core\n",
      "Compiling ppdsp.dataset.base\n",
      "Compiling ppdsp.dataset.csv-dataset\n",
      "Compiling ppdsp.dataset.moa\n",
      "Compiling ppdsp.dataset.save-csv\n",
      "Compiling ppdsp.masking.attack-data\n",
      "Compiling ppdsp.masking.base\n",
      "Compiling ppdsp.masking.evaluation\n",
      "Compiling ppdsp.masking.optimize\n",
      "Compiling ppdsp.masking.projection\n",
      "Compiling ppdsp.masking.single-stage-cumulative-attack\n",
      "Compiling ppdsp.masking.two-stage-cumulative-attack\n",
      "Compiling ppdsp.masking.two-stage-independent-attack\n",
      "Compiling ppdsp.masking.utils\n",
      "Compiling ppdsp.training\n",
      "Compiling ppdsp.utils.complex-numbers\n",
      "Compiling ppdsp.utils.matrices\n",
      "Compiling ppdsp.utils.moving-average\n",
      "Compiling ppdsp.utils.random\n",
      "Compiling ppdsp.utils.stats\n",
      "Compiling ppdsp.utils.timing\n",
      "Compiling ppdsp.utils\n",
      "Created /home/beakerx/ppdsp/target/jvm/uberjar/ppdsp-0.1.0-SNAPSHOT.jar\n",
      "Created /home/beakerx/ppdsp/target/jvm/uberjar/ppdsp-0.1.0-SNAPSHOT-standalone.jar\n",
      "\n"
     ]
    }
   ],
   "source": [
    "%%bash\n",
    "lein uberjar"
   ]
  },
  {
   "cell_type": "code",
   "execution_count": 2,
   "metadata": {},
   "outputs": [
    {
     "data": {
      "application/vnd.jupyter.widget-view+json": {
       "model_id": "44a4b6be-512a-4bed-aa4d-cfb9a874e00f",
       "version_major": 2,
       "version_minor": 0
      },
      "method": "display_data"
     },
     "metadata": {},
     "output_type": "display_data"
    },
    {
     "data": {
      "text/plain": [
       "null"
      ]
     },
     "execution_count": 2,
     "metadata": {},
     "output_type": "execute_result"
    }
   ],
   "source": [
    "%classpath add jar ../target/jvm/uberjar/ppdsp-0.1.0-SNAPSHOT-standalone.jar\n",
    "(clojure.lang.Compiler/loadFile \"jupyter_helpers.clj\")\n",
    "(require '[clojure.string :as string]\n",
    "         '[clojure.pprint :refer [pprint print-table]]\n",
    "         '[jupyter-helpers :refer [save-data load-data display-table \n",
    "                                   display-masking-error-plots  run-masking-experiments\n",
    "                                   attack-strategy-comparison-plots \n",
    "                                   noise-accuracy-plot accuracy-privacy-tradeoff-comparison\n",
    "                                   display-html accuracy-privacy-tradeoff-legend\n",
    "                                   accuracy-privacy-tradeoff attack-strategy-comparison\n",
    "                                   round-known-record-counts\n",
    "                                   ;;added by Waruni\n",
    "                                    read-data run-masking-experiments-cycles  attack-per-cycle accuracy-updating-cycles \n",
    "                                   accuracy-for-flat-areas  save-data-append-newline  ;;accuracy-of-attacked-records\n",
    "                                   ]]\n",
    "         '[ppdsp.classifier.moa-classifier :refer [adaptive-random-forest]]\n",
    "         '[ppdsp.dataset.base :refer [dataset-feature-count dataset-record-count]]\n",
    "         '[ppdsp.dataset.csv-dataset :refer [read-csv-dataset]]\n",
    "         '[ppdsp.masking.evaluation :refer [flatten-masking-experiment-recoveries\n",
    "                                           unknown-record-relative-position\n",
    "                                           add-combined-result\n",
    "                                           get-cumulative-noise-sigma\n",
    "                                            get-attack-count]]\n",
    "         '[ppdsp.utils :refer [map-vals mean]])"
   ]
  },
  {
   "cell_type": "markdown",
   "metadata": {},
   "source": [
    "## Experiment Configuration"
   ]
  },
  {
   "cell_type": "code",
   "execution_count": 3,
   "metadata": {},
   "outputs": [
    {
     "data": {
      "text/plain": [
       "#'beaker_clojure_shell_cec1d768-b36b-439e-bf75-a7d9afc664b8/dataset"
      ]
     },
     "execution_count": 3,
     "metadata": {},
     "output_type": "execute_result"
    }
   ],
   "source": [
    "(def dataset-label \"nyc-taxi\")\n",
    "(def dataset (read-csv-dataset \"datasets/nyc-taxi/nyc-50k.csv\"\n",
    "                                99999999 ;; All records\n",
    "                                ;; Numeric features\n",
    "                                [\"pickup_longitude\" \"pickup_latitude\" \"dropoff_longitude\" \"dropoff_latitude\" \"pickup_day\" \"pickup_hour\" \"dist\"]))"
   ]
  },
  {
   "cell_type": "code",
   "execution_count": 4,
   "metadata": {},
   "outputs": [
    {
     "data": {
      "text/plain": [
       "#'beaker_clojure_shell_cec1d768-b36b-439e-bf75-a7d9afc664b8/logistic-cumulative-noise-configuration"
      ]
     },
     "execution_count": 4,
     "metadata": {},
     "output_type": "execute_result"
    }
   ],
   "source": [
    "(def epsilons [0.2])\n",
    "\n",
    "(def feature-count (dataset-feature-count dataset))\n",
    "(def record-count (dataset-record-count dataset))\n",
    "\n",
    "(def cycle-sizes [500]) ;;Half of the cycle size\n",
    "(def attack-count (int (/(* record-count 0.05) 4)))  ;; 5% of the record count was selected as the attack count and for each attack 4 known I/O pairs\n",
    ";;(def cumulative-attack-counts [120 200 280])\n",
    "\n",
    "(def independent-noise-sigmas [0.25])\n",
    "(def cumulative-noise-sigmas (map #(get-cumulative-noise-sigma % record-count) independent-noise-sigmas))\n",
    "\n",
    "\n",
    "(def base-configuration\n",
    "    {:dataset dataset\n",
    "     :projection-feature-counts [feature-count]\n",
    "     :projection-sigmas [1.0]\n",
    "     :translations [0]\n",
    "     :known-record-counts [4]\n",
    "     :known-record-ranges [1]\n",
    "     :classifier-fns {:arf adaptive-random-forest}\n",
    "     :attack-count attack-count\n",
    "     :attempt-count 3\n",
    "     :threads-per-configuration 4\n",
    "     :threads-per-evaluation 1\n",
    "     :seed 250\n",
    "     :evaluations [:privacy :accuracy]})\n",
    "(def cumulative-noise-configuration\n",
    "        (merge base-configuration\n",
    "               {:output-file (str \"workspace/\" dataset-label \"/cumulative.edn\")  \n",
    "                :independent-noise-sigmas [0.0]\n",
    "                :cumulative-noise-sigmas cumulative-noise-sigmas\n",
    "                :cycle-sizes [0]\n",
    "                :flat-record-length 0\n",
    "                :attack-strategies [:a-rp :a-rpcn :a-rpcn-1]}))\n",
    "\n",
    "(def cumulative-noise-cycles-configuration\n",
    "        (merge base-configuration\n",
    "               {:output-file (str \"workspace/\" dataset-label \"/cumulative-cycles.edn\")  \n",
    "                :maximum-fn-value 0\n",
    "                :growth-rate-k 0.0\n",
    "                :independent-noise-sigmas [0.0]\n",
    "                :cumulative-noise-sigmas cumulative-noise-sigmas\n",
    "                :cycle-sizes cycle-sizes\n",
    "                :flat-record-length 0\n",
    "                :attack-strategies [:a-rp :a-rpcn :a-rpcn-1]}))\n",
    "\n",
    "\n",
    "(def logistic-cumulative-noise-configuration\n",
    "    (merge base-configuration\n",
    "           {:output-file (str \"workspace/\" dataset-label \"/logistic-cumulative.edn\")\n",
    "            :maximum-fn-value 1\n",
    "            :growth-rate-k 0.01\n",
    "            :independent-noise-sigmas [0.0]\n",
    "            :cumulative-noise-sigmas cumulative-noise-sigmas\n",
    "            :cycle-sizes cycle-sizes\n",
    "            :flat-record-length 200  ;;indicates the length of the flat period of the cycle according to the logistic function. depend on the cycle size\n",
    "            :attack-strategies [:a-rp :a-rpcn :a-rpcn-1]}))\n"
   ]
  },
  {
   "cell_type": "markdown",
   "metadata": {},
   "source": [
    "## Run Experiments"
   ]
  },
  {
   "cell_type": "code",
   "execution_count": 5,
   "metadata": {
    "scrolled": true
   },
   "outputs": [
    {
     "name": "stdout",
     "output_type": "stream",
     "text": [
      "Starting: privacy-evaluation-pf7-ps1.0-is0.0-cs0.0016770258744685006-tr0 -cz1000-krc4-krr1 -ac625-krrp:middle\n"
     ]
    },
    {
     "name": "stderr",
     "output_type": "stream",
     "text": [
      "Aug 02, 2021 2:00:51 AM com.github.fommil.jni.JniLoader liberalLoad\n",
      "INFO: successfully loaded /tmp/jniloader2962904501504803853netlib-native_system-linux-x86_64.so\n"
     ]
    },
    {
     "name": "stdout",
     "output_type": "stream",
     "text": [
      "\"Elapsed time: 455467.9253 msecs\"\n"
     ]
    },
    {
     "data": {
      "text/plain": [
       "null"
      ]
     },
     "execution_count": 5,
     "metadata": {},
     "output_type": "execute_result"
    }
   ],
   "source": [
    "(run-masking-experiments-cycles logistic-cumulative-noise-configuration)"
   ]
  },
  {
   "cell_type": "code",
   "execution_count": 6,
   "metadata": {},
   "outputs": [
    {
     "name": "stdout",
     "output_type": "stream",
     "text": [
      "Starting: privacy-evaluation-pf7-ps1.0-is0.0-cs0.0016770258744685006-tr0 -cz0-krc4-krr1 -ac625-krrp:middle\n"
     ]
    },
    {
     "ename": "java.util.concurrent.ExecutionException",
     "evalue": " java.util.concurrent.ExecutionException",
     "output_type": "error",
     "traceback": [
      "\u001b[1;31mjava.util.concurrent.ExecutionException: java.util.concurrent.ExecutionException: java.lang.Exception: Impossible to find linearly independent row(s).\u001b[0;0m",
      "\u001b[1;31m\tat java.util.concurrent.FutureTask.report(FutureTask.java:122)\u001b[0;0m",
      "\u001b[1;31m\tat java.util.concurrent.FutureTask.get(FutureTask.java:192)\u001b[0;0m",
      "\u001b[1;31m\tat sun.reflect.NativeMethodAccessorImpl.invoke0(Native Method)\u001b[0;0m",
      "\u001b[1;31m\tat sun.reflect.NativeMethodAccessorImpl.invoke(NativeMethodAccessorImpl.java:62)\u001b[0;0m",
      "\u001b[1;31m\tat sun.reflect.DelegatingMethodAccessorImpl.invoke(DelegatingMethodAccessorImpl.java:43)\u001b[0;0m",
      "\u001b[1;31m\tat java.lang.reflect.Method.invoke(Method.java:498)\u001b[0;0m",
      "\u001b[1;31m\tat clojure.lang.Reflector.invokeMatchingMethod(Reflector.java:93)\u001b[0;0m",
      "\u001b[1;31m\tat clojure.lang.Reflector.invokeNoArgInstanceMember(Reflector.java:313)\u001b[0;0m",
      "\u001b[1;31m\tat jupyter_helpers$pmap_pool$fn__984.invoke(jupyter_helpers.clj:85)\u001b[0;0m",
      "\u001b[1;31m\tat clojure.core$map$fn__5587.invoke(core.clj:2747)\u001b[0;0m",
      "\u001b[1;31m\tat clojure.lang.LazySeq.sval(LazySeq.java:40)\u001b[0;0m",
      "\u001b[1;31m\tat clojure.lang.LazySeq.seq(LazySeq.java:49)\u001b[0;0m",
      "\u001b[1;31m\tat clojure.lang.RT.seq(RT.java:528)\u001b[0;0m",
      "\u001b[1;31m\tat clojure.core$seq__5124.invokeStatic(core.clj:137)\u001b[0;0m",
      "\u001b[1;31m\tat clojure.core$dorun.invokeStatic(core.clj:3125)\u001b[0;0m",
      "\u001b[1;31m\tat clojure.core$doall.invokeStatic(core.clj:3140)\u001b[0;0m",
      "\u001b[1;31m\tat clojure.core$doall.invoke(core.clj:3140)\u001b[0;0m",
      "\u001b[1;31m\tat jupyter_helpers$pmap_pool.invokeStatic(jupyter_helpers.clj:86)\u001b[0;0m",
      "\u001b[1;31m\tat jupyter_helpers$pmap_pool.invoke(jupyter_helpers.clj:79)\u001b[0;0m",
      "\u001b[1;31m\tat jupyter_helpers$run_masking_experiments.invokeStatic(jupyter_helpers.clj:241)\u001b[0;0m",
      "\u001b[1;31m\tat jupyter_helpers$run_masking_experiments.invoke(jupyter_helpers.clj:219)\u001b[0;0m",
      "\u001b[1;31m\tat beaker_clojure_shell_cec1d768_b36b_439e_bf75_a7d9afc664b8$eval1735.invokeStatic(Unknown Source)\u001b[0;0m",
      "\u001b[1;31m\tat beaker_clojure_shell_cec1d768_b36b_439e_bf75_a7d9afc664b8$eval1735.invoke(Unknown Source)\u001b[0;0m",
      "\u001b[1;31m\tat clojure.lang.Compiler.eval(Compiler.java:7062)\u001b[0;0m",
      "\u001b[1;31m\tat clojure.lang.Compiler.load(Compiler.java:7514)\u001b[0;0m",
      "\u001b[1;31m\tat clojure.lang.Compiler.load(Compiler.java:7461)\u001b[0;0m",
      "\u001b[1;31m\tat clojure.core$load_reader.invokeStatic(core.clj:4053)\u001b[0;0m",
      "\u001b[1;31m\tat clojure.core$load_string.invokeStatic(core.clj:4055)\u001b[0;0m",
      "\u001b[1;31m\tat clojure.core$load_string.invoke(core.clj:4055)\u001b[0;0m",
      "\u001b[1;31m\tat beaker_clojure_shell_cec1d768_b36b_439e_bf75_a7d9afc664b8$run_str_cec1d768_b36b_439e_bf75_a7d9afc664b8.invokeStatic(Unknown Source)\u001b[0;0m",
      "\u001b[1;31m\tat beaker_clojure_shell_cec1d768_b36b_439e_bf75_a7d9afc664b8$run_str_cec1d768_b36b_439e_bf75_a7d9afc664b8.invoke(Unknown Source)\u001b[0;0m",
      "\u001b[1;31m\tat clojure.lang.Var.invoke(Var.java:381)\u001b[0;0m",
      "\u001b[0;31m\tat com.twosigma.beakerx.clojure.evaluator.ClojureEvaluator.runCode(ClojureEvaluator.java:168)\u001b[0;0m",
      "\u001b[0;31m\tat com.twosigma.beakerx.clojure.evaluator.ClojureCodeRunner.call(ClojureCodeRunner.java:47)\u001b[0;0m",
      "\u001b[0;31m\tat com.twosigma.beakerx.clojure.evaluator.ClojureCodeRunner.call(ClojureCodeRunner.java:28)\u001b[0;0m",
      "\u001b[0;31m\tat java.util.concurrent.FutureTask.run(FutureTask.java:266)\u001b[0;0m",
      "\u001b[0;31m\tat java.lang.Thread.run(Thread.java:745)\u001b[0;0m",
      "\u001b[0;31mCaused by: java.util.concurrent.ExecutionException: java.lang.Exception: Impossible to find linearly independent row(s).\u001b[0;0m",
      "\u001b[0;31m\tat java.util.concurrent.FutureTask.report(FutureTask.java:122)\u001b[0;0m",
      "\u001b[0;31m\tat java.util.concurrent.FutureTask.get(FutureTask.java:192)\u001b[0;0m",
      "\u001b[0;31m\tat sun.reflect.NativeMethodAccessorImpl.invoke0(Native Method)\u001b[0;0m",
      "\u001b[0;31m\tat sun.reflect.NativeMethodAccessorImpl.invoke(NativeMethodAccessorImpl.java:62)\u001b[0;0m",
      "\u001b[0;31m\tat sun.reflect.DelegatingMethodAccessorImpl.invoke(DelegatingMethodAccessorImpl.java:43)\u001b[0;0m",
      "\u001b[0;31m\tat java.lang.reflect.Method.invoke(Method.java:498)\u001b[0;0m",
      "\u001b[0;31m\tat clojure.lang.Reflector.invokeMatchingMethod(Reflector.java:93)\u001b[0;0m",
      "\u001b[0;31m\tat clojure.lang.Reflector.invokeNoArgInstanceMember(Reflector.java:313)\u001b[0;0m",
      "\u001b[0;31m\tat ppdsp.utils$pmap_pool$fn__159.invoke(utils.cljc:163)\u001b[0;0m",
      "\u001b[0;31m\tat clojure.core$map$fn__5587.invoke(core.clj:2747)\u001b[0;0m",
      "\u001b[0;31m\tat clojure.lang.LazySeq.sval(LazySeq.java:40)\u001b[0;0m",
      "\u001b[0;31m\tat clojure.lang.LazySeq.seq(LazySeq.java:49)\u001b[0;0m",
      "\u001b[0;31m\tat clojure.lang.RT.seq(RT.java:528)\u001b[0;0m",
      "\u001b[0;31m\tat clojure.core$seq__5124.invokeStatic(core.clj:137)\u001b[0;0m",
      "\u001b[0;31m\tat clojure.core$dorun.invokeStatic(core.clj:3125)\u001b[0;0m",
      "\u001b[0;31m\tat clojure.core$doall.invokeStatic(core.clj:3140)\u001b[0;0m",
      "\u001b[0;31m\tat clojure.core$doall.invoke(core.clj:3140)\u001b[0;0m",
      "\u001b[0;31m\tat ppdsp.utils$pmap_pool.invokeStatic(utils.cljc:164)\u001b[0;0m",
      "\u001b[0;31m\tat ppdsp.utils$pmap_pool.invoke(utils.cljc:157)\u001b[0;0m",
      "\u001b[0;31m\tat ppdsp.masking.evaluation$evaluate_privacy.invokeStatic(evaluation.cljc:318)\u001b[0;0m",
      "\u001b[0;31m\tat ppdsp.masking.evaluation$evaluate_privacy.invoke(evaluation.cljc:301)\u001b[0;0m",
      "\u001b[0;31m\tat ppdsp.masking.evaluation$masking_experiment$iter__11819__11823$fn__11824$fn__11825.invoke(evaluation.cljc:425)\u001b[0;0m",
      "\u001b[0;31m\tat ppdsp.masking.evaluation$masking_experiment$iter__11819__11823$fn__11824.invoke(evaluation.cljc:421)\u001b[0;0m",
      "\u001b[0;31m\tat clojure.lang.LazySeq.sval(LazySeq.java:40)\u001b[0;0m",
      "\u001b[0;31m\tat clojure.lang.LazySeq.seq(LazySeq.java:49)\u001b[0;0m",
      "\u001b[0;31m\tat clojure.lang.RT.seq(RT.java:528)\u001b[0;0m",
      "\u001b[0;31m\tat clojure.core$seq__5124.invokeStatic(core.clj:137)\u001b[0;0m",
      "\u001b[0;31m\tat clojure.core$zipmap.invokeStatic(core.clj:3063)\u001b[0;0m",
      "\u001b[0;31m\tat clojure.core$zipmap.invoke(core.clj:3063)\u001b[0;0m",
      "\u001b[0;31m\tat ppdsp.masking.evaluation$masking_experiment.invokeStatic(evaluation.cljc:419)\u001b[0;0m",
      "\u001b[0;31m\tat ppdsp.masking.evaluation$masking_experiment.doInvoke(evaluation.cljc:401)\u001b[0;0m",
      "\u001b[0;31m\tat clojure.lang.RestFn.invoke(RestFn.java:3894)\u001b[0;0m",
      "\u001b[0;31m\tat jupyter_helpers$run_masking_experiments$fn__1214.invoke(jupyter_helpers.clj:244)\u001b[0;0m",
      "\u001b[0;31m\tat jupyter_helpers$pmap_pool$fn__986$fn__987.invoke(jupyter_helpers.clj:83)\u001b[0;0m",
      "\u001b[0;31m\tat clojure.lang.AFn.call(AFn.java:18)\u001b[0;0m",
      "\u001b[0;31m\tat java.util.concurrent.FutureTask.run(FutureTask.java:266)\u001b[0;0m",
      "\u001b[0;31m\tat java.util.concurrent.ThreadPoolExecutor.runWorker(ThreadPoolExecutor.java:1142)\u001b[0;0m",
      "\u001b[0;31m\tat java.util.concurrent.ThreadPoolExecutor$Worker.run(ThreadPoolExecutor.java:617)\u001b[0;0m",
      "\u001b[0;31m\t... 1 more\u001b[0;0m",
      "\u001b[0;31mCaused by: java.lang.Exception: Impossible to find linearly independent row(s).\u001b[0;0m",
      "\u001b[0;31m\tat ppdsp.utils.matrices$random_li_row_indexes_BANG_.invokeStatic(matrices.cljc:93)\u001b[0;0m",
      "\u001b[0;31m\tat ppdsp.utils.matrices$random_li_row_indexes_BANG_.doInvoke(matrices.cljc:49)\u001b[0;0m",
      "\u001b[0;31m\tat clojure.lang.RestFn.invoke(RestFn.java:573)\u001b[0;0m",
      "\u001b[0;31m\tat ppdsp.masking.evaluation$generate_io_attack_data_BANG_.invokeStatic(evaluation.cljc:152)\u001b[0;0m",
      "\u001b[0;31m\tat ppdsp.masking.evaluation$generate_io_attack_data_BANG_.invoke(evaluation.cljc:138)\u001b[0;0m",
      "\u001b[0;31m\tat ppdsp.masking.evaluation$evaluate_privacy$fn__11759$iter__11761__11765$fn__11766$fn__11767$fn__11768.invoke(evaluation.cljc:352)\u001b[0;0m",
      "\u001b[0;31m\tat ppdsp.utils$try_times_STAR_$fn__166.invoke(utils.cljc:174)\u001b[0;0m",
      "\u001b[0;31m\tat ppdsp.utils$try_times_STAR_.invokeStatic(utils.cljc:174)\u001b[0;0m",
      "\u001b[0;31m\tat ppdsp.utils$try_times_STAR_.invoke(utils.cljc:168)\u001b[0;0m",
      "\u001b[0;31m\tat ppdsp.masking.evaluation$evaluate_privacy$fn__11759$iter__11761__11765$fn__11766$fn__11767.invoke(evaluation.cljc:350)\u001b[0;0m",
      "\u001b[0;31m\tat ppdsp.masking.evaluation$evaluate_privacy$fn__11759$iter__11761__11765$fn__11766.invoke(evaluation.cljc:342)\u001b[0;0m",
      "\u001b[0;31m\tat clojure.lang.LazySeq.sval(LazySeq.java:40)\u001b[0;0m",
      "\u001b[0;31m\tat clojure.lang.LazySeq.seq(LazySeq.java:49)\u001b[0;0m",
      "\u001b[0;31m\tat clojure.lang.RT.seq(RT.java:528)\u001b[0;0m",
      "\u001b[0;31m\tat clojure.core$seq__5124.invokeStatic(core.clj:137)\u001b[0;0m",
      "\u001b[0;31m\tat clojure.core$dorun.invokeStatic(core.clj:3125)\u001b[0;0m",
      "\u001b[0;31m\tat clojure.core$doall.invokeStatic(core.clj:3140)\u001b[0;0m",
      "\u001b[0;31m\tat clojure.core$doall.invoke(core.clj:3140)\u001b[0;0m",
      "\u001b[0;31m\tat ppdsp.masking.evaluation$evaluate_privacy$fn__11759.invoke(evaluation.cljc:341)\u001b[0;0m",
      "\u001b[0;31m\tat ppdsp.utils$pmap_pool$fn__161$fn__162.invoke(utils.cljc:161)\u001b[0;0m",
      "\u001b[0;31m\t... 5 more\u001b[0;0m"
     ]
    }
   ],
   "source": [
    "(run-masking-experiments cumulative-noise-configuration)"
   ]
  },
  {
   "cell_type": "code",
   "execution_count": 7,
   "metadata": {},
   "outputs": [
    {
     "name": "stdout",
     "output_type": "stream",
     "text": [
      "Starting: privacy-evaluation-pf7-ps1.0-is0.0-cs0.0016770258744685006-tr0 -cz1000-krc4-krr1 -ac625-krrp:middle\n"
     ]
    },
    {
     "ename": "java.util.concurrent.ExecutionException",
     "evalue": " java.util.concurrent.ExecutionException",
     "output_type": "error",
     "traceback": [
      "\u001b[1;31mjava.util.concurrent.ExecutionException: java.util.concurrent.ExecutionException: java.lang.Exception: Impossible to find linearly independent row(s).\u001b[0;0m",
      "\u001b[1;31m\tat java.util.concurrent.FutureTask.report(FutureTask.java:122)\u001b[0;0m",
      "\u001b[1;31m\tat java.util.concurrent.FutureTask.get(FutureTask.java:192)\u001b[0;0m",
      "\u001b[1;31m\tat sun.reflect.NativeMethodAccessorImpl.invoke0(Native Method)\u001b[0;0m",
      "\u001b[1;31m\tat sun.reflect.NativeMethodAccessorImpl.invoke(NativeMethodAccessorImpl.java:62)\u001b[0;0m",
      "\u001b[1;31m\tat sun.reflect.DelegatingMethodAccessorImpl.invoke(DelegatingMethodAccessorImpl.java:43)\u001b[0;0m",
      "\u001b[1;31m\tat java.lang.reflect.Method.invoke(Method.java:498)\u001b[0;0m",
      "\u001b[1;31m\tat clojure.lang.Reflector.invokeMatchingMethod(Reflector.java:93)\u001b[0;0m",
      "\u001b[1;31m\tat clojure.lang.Reflector.invokeNoArgInstanceMember(Reflector.java:313)\u001b[0;0m",
      "\u001b[1;31m\tat jupyter_helpers$pmap_pool$fn__984.invoke(jupyter_helpers.clj:85)\u001b[0;0m",
      "\u001b[1;31m\tat clojure.core$map$fn__5587.invoke(core.clj:2747)\u001b[0;0m",
      "\u001b[1;31m\tat clojure.lang.LazySeq.sval(LazySeq.java:40)\u001b[0;0m",
      "\u001b[1;31m\tat clojure.lang.LazySeq.seq(LazySeq.java:49)\u001b[0;0m",
      "\u001b[1;31m\tat clojure.lang.RT.seq(RT.java:528)\u001b[0;0m",
      "\u001b[1;31m\tat clojure.core$seq__5124.invokeStatic(core.clj:137)\u001b[0;0m",
      "\u001b[1;31m\tat clojure.core$dorun.invokeStatic(core.clj:3125)\u001b[0;0m",
      "\u001b[1;31m\tat clojure.core$doall.invokeStatic(core.clj:3140)\u001b[0;0m",
      "\u001b[1;31m\tat clojure.core$doall.invoke(core.clj:3140)\u001b[0;0m",
      "\u001b[1;31m\tat jupyter_helpers$pmap_pool.invokeStatic(jupyter_helpers.clj:86)\u001b[0;0m",
      "\u001b[1;31m\tat jupyter_helpers$pmap_pool.invoke(jupyter_helpers.clj:79)\u001b[0;0m",
      "\u001b[1;31m\tat jupyter_helpers$run_masking_experiments_cycles.invokeStatic(jupyter_helpers.clj:748)\u001b[0;0m",
      "\u001b[1;31m\tat jupyter_helpers$run_masking_experiments_cycles.invoke(jupyter_helpers.clj:726)\u001b[0;0m",
      "\u001b[1;31m\tat beaker_clojure_shell_cec1d768_b36b_439e_bf75_a7d9afc664b8$eval1737.invokeStatic(Unknown Source)\u001b[0;0m",
      "\u001b[1;31m\tat beaker_clojure_shell_cec1d768_b36b_439e_bf75_a7d9afc664b8$eval1737.invoke(Unknown Source)\u001b[0;0m",
      "\u001b[1;31m\tat clojure.lang.Compiler.eval(Compiler.java:7062)\u001b[0;0m",
      "\u001b[1;31m\tat clojure.lang.Compiler.load(Compiler.java:7514)\u001b[0;0m",
      "\u001b[1;31m\tat clojure.lang.Compiler.load(Compiler.java:7461)\u001b[0;0m",
      "\u001b[1;31m\tat clojure.core$load_reader.invokeStatic(core.clj:4053)\u001b[0;0m",
      "\u001b[1;31m\tat clojure.core$load_string.invokeStatic(core.clj:4055)\u001b[0;0m",
      "\u001b[1;31m\tat clojure.core$load_string.invoke(core.clj:4055)\u001b[0;0m",
      "\u001b[1;31m\tat beaker_clojure_shell_cec1d768_b36b_439e_bf75_a7d9afc664b8$run_str_cec1d768_b36b_439e_bf75_a7d9afc664b8.invokeStatic(Unknown Source)\u001b[0;0m",
      "\u001b[1;31m\tat beaker_clojure_shell_cec1d768_b36b_439e_bf75_a7d9afc664b8$run_str_cec1d768_b36b_439e_bf75_a7d9afc664b8.invoke(Unknown Source)\u001b[0;0m",
      "\u001b[1;31m\tat clojure.lang.Var.invoke(Var.java:381)\u001b[0;0m",
      "\u001b[0;31m\tat com.twosigma.beakerx.clojure.evaluator.ClojureEvaluator.runCode(ClojureEvaluator.java:168)\u001b[0;0m",
      "\u001b[0;31m\tat com.twosigma.beakerx.clojure.evaluator.ClojureCodeRunner.call(ClojureCodeRunner.java:47)\u001b[0;0m",
      "\u001b[0;31m\tat com.twosigma.beakerx.clojure.evaluator.ClojureCodeRunner.call(ClojureCodeRunner.java:28)\u001b[0;0m",
      "\u001b[0;31m\tat java.util.concurrent.FutureTask.run(FutureTask.java:266)\u001b[0;0m",
      "\u001b[0;31m\tat java.lang.Thread.run(Thread.java:745)\u001b[0;0m",
      "\u001b[0;31mCaused by: java.util.concurrent.ExecutionException: java.lang.Exception: Impossible to find linearly independent row(s).\u001b[0;0m",
      "\u001b[0;31m\tat java.util.concurrent.FutureTask.report(FutureTask.java:122)\u001b[0;0m",
      "\u001b[0;31m\tat java.util.concurrent.FutureTask.get(FutureTask.java:192)\u001b[0;0m",
      "\u001b[0;31m\tat sun.reflect.NativeMethodAccessorImpl.invoke0(Native Method)\u001b[0;0m",
      "\u001b[0;31m\tat sun.reflect.NativeMethodAccessorImpl.invoke(NativeMethodAccessorImpl.java:62)\u001b[0;0m",
      "\u001b[0;31m\tat sun.reflect.DelegatingMethodAccessorImpl.invoke(DelegatingMethodAccessorImpl.java:43)\u001b[0;0m",
      "\u001b[0;31m\tat java.lang.reflect.Method.invoke(Method.java:498)\u001b[0;0m",
      "\u001b[0;31m\tat clojure.lang.Reflector.invokeMatchingMethod(Reflector.java:93)\u001b[0;0m",
      "\u001b[0;31m\tat clojure.lang.Reflector.invokeNoArgInstanceMember(Reflector.java:313)\u001b[0;0m",
      "\u001b[0;31m\tat ppdsp.utils$pmap_pool$fn__159.invoke(utils.cljc:163)\u001b[0;0m",
      "\u001b[0;31m\tat clojure.core$map$fn__5587.invoke(core.clj:2747)\u001b[0;0m",
      "\u001b[0;31m\tat clojure.lang.LazySeq.sval(LazySeq.java:40)\u001b[0;0m",
      "\u001b[0;31m\tat clojure.lang.LazySeq.seq(LazySeq.java:49)\u001b[0;0m",
      "\u001b[0;31m\tat clojure.lang.RT.seq(RT.java:528)\u001b[0;0m",
      "\u001b[0;31m\tat clojure.core$seq__5124.invokeStatic(core.clj:137)\u001b[0;0m",
      "\u001b[0;31m\tat clojure.core$dorun.invokeStatic(core.clj:3125)\u001b[0;0m",
      "\u001b[0;31m\tat clojure.core$doall.invokeStatic(core.clj:3140)\u001b[0;0m",
      "\u001b[0;31m\tat clojure.core$doall.invoke(core.clj:3140)\u001b[0;0m",
      "\u001b[0;31m\tat ppdsp.utils$pmap_pool.invokeStatic(utils.cljc:164)\u001b[0;0m",
      "\u001b[0;31m\tat ppdsp.utils$pmap_pool.invoke(utils.cljc:157)\u001b[0;0m",
      "\u001b[0;31m\tat ppdsp.masking.evaluation$evaluate_privacy.invokeStatic(evaluation.cljc:318)\u001b[0;0m",
      "\u001b[0;31m\tat ppdsp.masking.evaluation$evaluate_privacy.invoke(evaluation.cljc:301)\u001b[0;0m",
      "\u001b[0;31m\tat ppdsp.masking.evaluation$masking_experiment_cycles$iter__11964__11968$fn__11969$fn__11970.invoke(evaluation.cljc:560)\u001b[0;0m",
      "\u001b[0;31m\tat ppdsp.masking.evaluation$masking_experiment_cycles$iter__11964__11968$fn__11969.invoke(evaluation.cljc:556)\u001b[0;0m",
      "\u001b[0;31m\tat clojure.lang.LazySeq.sval(LazySeq.java:40)\u001b[0;0m",
      "\u001b[0;31m\tat clojure.lang.LazySeq.seq(LazySeq.java:49)\u001b[0;0m",
      "\u001b[0;31m\tat clojure.lang.RT.seq(RT.java:528)\u001b[0;0m",
      "\u001b[0;31m\tat clojure.core$seq__5124.invokeStatic(core.clj:137)\u001b[0;0m",
      "\u001b[0;31m\tat clojure.core$zipmap.invokeStatic(core.clj:3063)\u001b[0;0m",
      "\u001b[0;31m\tat clojure.core$zipmap.invoke(core.clj:3063)\u001b[0;0m",
      "\u001b[0;31m\tat ppdsp.masking.evaluation$masking_experiment_cycles.invokeStatic(evaluation.cljc:554)\u001b[0;0m",
      "\u001b[0;31m\tat ppdsp.masking.evaluation$masking_experiment_cycles.doInvoke(evaluation.cljc:532)\u001b[0;0m",
      "\u001b[0;31m\tat clojure.lang.RestFn.invoke(RestFn.java:3894)\u001b[0;0m",
      "\u001b[0;31m\tat jupyter_helpers$run_masking_experiments_cycles$fn__1702.invoke(jupyter_helpers.clj:751)\u001b[0;0m",
      "\u001b[0;31m\tat jupyter_helpers$pmap_pool$fn__986$fn__987.invoke(jupyter_helpers.clj:83)\u001b[0;0m",
      "\u001b[0;31m\tat clojure.lang.AFn.call(AFn.java:18)\u001b[0;0m",
      "\u001b[0;31m\tat java.util.concurrent.FutureTask.run(FutureTask.java:266)\u001b[0;0m",
      "\u001b[0;31m\tat java.util.concurrent.ThreadPoolExecutor.runWorker(ThreadPoolExecutor.java:1142)\u001b[0;0m",
      "\u001b[0;31m\tat java.util.concurrent.ThreadPoolExecutor$Worker.run(ThreadPoolExecutor.java:617)\u001b[0;0m",
      "\u001b[0;31m\t... 1 more\u001b[0;0m",
      "\u001b[0;31mCaused by: java.lang.Exception: Impossible to find linearly independent row(s).\u001b[0;0m",
      "\u001b[0;31m\tat ppdsp.utils.matrices$random_li_row_indexes_BANG_.invokeStatic(matrices.cljc:93)\u001b[0;0m",
      "\u001b[0;31m\tat ppdsp.utils.matrices$random_li_row_indexes_BANG_.doInvoke(matrices.cljc:49)\u001b[0;0m",
      "\u001b[0;31m\tat clojure.lang.RestFn.invoke(RestFn.java:573)\u001b[0;0m",
      "\u001b[0;31m\tat ppdsp.masking.evaluation$generate_io_attack_data_BANG_.invokeStatic(evaluation.cljc:152)\u001b[0;0m",
      "\u001b[0;31m\tat ppdsp.masking.evaluation$generate_io_attack_data_BANG_.invoke(evaluation.cljc:138)\u001b[0;0m",
      "\u001b[0;31m\tat ppdsp.masking.evaluation$evaluate_privacy$fn__11759$iter__11761__11765$fn__11766$fn__11767$fn__11768.invoke(evaluation.cljc:352)\u001b[0;0m",
      "\u001b[0;31m\tat ppdsp.utils$try_times_STAR_$fn__166.invoke(utils.cljc:174)\u001b[0;0m",
      "\u001b[0;31m\tat ppdsp.utils$try_times_STAR_.invokeStatic(utils.cljc:174)\u001b[0;0m",
      "\u001b[0;31m\tat ppdsp.utils$try_times_STAR_.invoke(utils.cljc:168)\u001b[0;0m",
      "\u001b[0;31m\tat ppdsp.masking.evaluation$evaluate_privacy$fn__11759$iter__11761__11765$fn__11766$fn__11767.invoke(evaluation.cljc:350)\u001b[0;0m",
      "\u001b[0;31m\tat ppdsp.masking.evaluation$evaluate_privacy$fn__11759$iter__11761__11765$fn__11766.invoke(evaluation.cljc:342)\u001b[0;0m",
      "\u001b[0;31m\tat clojure.lang.LazySeq.sval(LazySeq.java:40)\u001b[0;0m",
      "\u001b[0;31m\tat clojure.lang.LazySeq.seq(LazySeq.java:49)\u001b[0;0m",
      "\u001b[0;31m\tat clojure.lang.RT.seq(RT.java:528)\u001b[0;0m",
      "\u001b[0;31m\tat clojure.core$seq__5124.invokeStatic(core.clj:137)\u001b[0;0m",
      "\u001b[0;31m\tat clojure.core$dorun.invokeStatic(core.clj:3125)\u001b[0;0m",
      "\u001b[0;31m\tat clojure.core$doall.invokeStatic(core.clj:3140)\u001b[0;0m",
      "\u001b[0;31m\tat clojure.core$doall.invoke(core.clj:3140)\u001b[0;0m",
      "\u001b[0;31m\tat ppdsp.masking.evaluation$evaluate_privacy$fn__11759.invoke(evaluation.cljc:341)\u001b[0;0m",
      "\u001b[0;31m\tat ppdsp.utils$pmap_pool$fn__161$fn__162.invoke(utils.cljc:161)\u001b[0;0m",
      "\u001b[0;31m\t... 5 more\u001b[0;0m"
     ]
    }
   ],
   "source": [
    "(run-masking-experiments-cycles cumulative-noise-cycles-configuration)"
   ]
  },
  {
   "cell_type": "markdown",
   "metadata": {},
   "source": [
    "## Load and Extend Experiment Results"
   ]
  },
  {
   "cell_type": "code",
   "execution_count": 6,
   "metadata": {},
   "outputs": [
    {
     "data": {
      "text/plain": [
       "#'beaker_clojure_shell_8f12dc80-cf24-4bec-ba06-e725800105a2/flat-results-cumulative-logistic"
      ]
     },
     "execution_count": 6,
     "metadata": {},
     "output_type": "execute_result"
    }
   ],
   "source": [
    ";;LOGISTIC NOISE\n",
    "(def output-cumulative-logistic (load-data (:output-file logistic-cumulative-noise-configuration))) ;;all results\n",
    "(def original-accuracy-cumulative-logistic (-> output-cumulative-logistic :original :accuracy))        ;;original classification results with accuracy\n",
    "(def results-cumulative-logistic (-> (filter #(contains? (set cumulative-noise-sigmas) (:cumulative-noise-sigma %)) ;;All results without original accuracy (masking results)\n",
    "                                    (:results output-cumulative-logistic))\n",
    "                            (add-combined-result :score [:a-rp :a-rpcn])\n",
    "                            (add-combined-result :score [:a-rp :a-rpcn-1])))\n",
    "(def flat-results-cumulative-logistic (->> results-cumulative-logistic  \n",
    "                                  flatten-masking-experiment-recoveries\n",
    "                                  (map #(assoc % :unknown-record-relative-position (unknown-record-relative-position %)))  ;;results with privacy\n",
    "                                           )) ;;results with privacy\n",
    "\n",
    ";;(println flat-results-cumulative-logistic )"
   ]
  },
  {
   "cell_type": "code",
   "execution_count": 7,
   "metadata": {},
   "outputs": [
    {
     "data": {
      "application/vnd.jupyter.widget-view+json": {
       "model_id": "d072d14c-d511-4f47-8fa6-4f15e1e5a2e2",
       "version_major": 2,
       "version_minor": 0
      },
      "method": "display_data"
     },
     "metadata": {},
     "output_type": "display_data"
    }
   ],
   "source": [
    ";;Accuracy per sample for logistic noise\n",
    "(def accuracy-cycles-outputfile-logistic (str \"workspace/\" dataset-label \"/logistic-accuracy-per-cycle.edn\"))\n",
    "(def details-outputfile-logistic (str \"workspace/\" dataset-label \"/logistic-accuracy-details.edn\"))\n",
    "(def full-cycle 1000)\n",
    "(def access-result-list-logistic (nth results-cumulative-logistic 0)) ;;nth is used to access elements of lists\n",
    " (def acc-after-masking-logistic (-> access-result-list-logistic :accuracy :arf :raw-results )) ;;getting only accuracy results\n",
    " \n",
    "       (accuracy-updating-cycles acc-after-masking-logistic accuracy-cycles-outputfile-logistic record-count full-cycle details-outputfile-logistic)"
   ]
  },
  {
   "cell_type": "code",
   "execution_count": 8,
   "metadata": {
    "scrolled": true
   },
   "outputs": [
    {
     "data": {
      "text/plain": [
       "[null, 0.0, null, null, null, null, 0.0, null, null, null, null, 0.0, null, null, null, null, 0.0, null, null, null, null, 0.0, null, null, null, null, 0.0, null, null, null, null, 0.0, null, null, null, null, 0.0, null, null, null, null, 0.0, null, null, null, null, 0.0, null, null, null, null, 0.0, null, null, null, null, 0.0, null, null, null, null, 0.0016, null, null, null, null, 0.0016, null, null, null, null, 0.0016, null, null, null, null, 0.0016, null, null, null, null, 0.0016, null, null, null, null, 0.0016, null, null, null, null, 0.0016, null, null, null, null, 0.0016, null, null, null, null, 0.0016, null, null, null, null, 0.0016, null, null, null, null, 0.0016, null, null, null, null, 0.0016, null, null, null, null, 0.0016, null, null, null, null, 0.0016, null, null, null, null, 0.0016, null, null, null, null, 0.0016, null, null, null, null, 0.0016, null, null, null, null, 0.0016, null, null, null, null, 0.0016, null, null, null, null, 0.0016, null, null, null, null, 0.0016, null, null, null, null, 0.0016, null, null, null, null, 0.0016, null, null, null, null, 0.0016, null, null, null, null, 0.0016, null, null, null, null, 0.0016, null, null, null, null, 0.0016, null, null, null, null, 0.0016, null, null, null, null, 0.0016, null, null, null, null, 0.0016, null, null, null, null, 0.0016, null, null, null, null, 0.0016, null, null, null, null, 0.0016, null, null, null, null, 0.0016, null, null, null, null, 0.0016, null, null, null, null, 0.0016, null, null, null, null, 0.0016, null, null, null, null, 0.0016, null, null, null, null, 0.0016, null, null, null, null, 0.0016, null, null, null, null, 0.0016, null, null, null, null, 0.0016, null, null, null, null, 0.0016, null, null, null, null, 0.0016, null, null, null, null, 0.0016, null, null, null, null, 0.0016, null, null, null, null, 0.0032, null, null, null, null, 0.0032, null, null, null, null, 0.0032, null, null, null, null, 0.0032, null, null, null, null, 0.0032, null, null, null, null, 0.0032, null, null, null, null, 0.0032, null, null, null, null, 0.0032, null, null, null, null, 0.0032, null, null, null, null, 0.0032, null, null, null, null, 0.0032, null, null, null, null, 0.0032, null, null, null, null, 0.0032, null, null, null, null, 0.0032, null, null, null, null, 0.0032, null, null, null, null, 0.0032, null, null, null, null, 0.0032, null, null, null, null, 0.0032, null, null, null, null, 0.0032, null, null, null, null, 0.0032, null, null, null, null, 0.0032, null, null, null, null, 0.0032, null, null, null, null, 0.0032, null, null, null, null, 0.0032, null, null, null, null, 0.0032, null, null, null, null, 0.0032, null, null, null, null, 0.0032, null, null, null, null, 0.0032, null, null, null, null, 0.0032, null, null, null, null, 0.0032, null, null, null, null, 0.0032, null, null, null, null, 0.0032, null, null, null, null, 0.0032, null, null, null, null, 0.0032, null, null, null, null, 0.0032, null, null, null, null, 0.0032, null, null, null, null, 0.0032, null, null, null, null, 0.0032, null, null, null, null, 0.0032, null, null, null, null, 0.0032, null, null, null, null, 0.0032, null, null, null, null, 0.0032, null, null, null, null, 0.0032, null, null, null, null, 0.0032, null, null, null, null, 0.0032, null, null, null, null, 0.0032, null, null, null, null, 0.0032, null, null, null, null, 0.0032, null, null, null, null, 0.0032, null, null, null, null, 0.0032, null, null, null, null, 0.0032, null, null, null, null, 0.0032, null, null, null, null, 0.0032, null, null, null, null, 0.0032, null, null, null, null, 0.0032, null, null, null, null, 0.0048, null, null, null, null, 0.0048, null, null, null, null, 0.0048, null, null, null, null, 0.0048, null, null, null, null, 0.0048, null, null, null, null, 0.0048, null, null, null, null, 0.0048, null, null, null, null, 0.0064, null, null, null, null, 0.0064, null, null, null, null, 0.0064, null, null, null, null, 0.0064, null, null, null, null, 0.0064, null, null, null, null, 0.0064, null, null, null, null, 0.0064, null, null, null, null, 0.0064, null, null, null, null, 0.0064, null, null, null, null, 0.0064, null, null, null, null, 0.0064, null, null, null, null, 0.0064, null, null, null, null, 0.0064, null, null, null, null, 0.0064, null, null, null, null, 0.0064, null, null, null, null, 0.0064, null, null, null, null, 0.0064, null, null, null, null, 0.0064, null, null, null, null, 0.0064, null, null, null, null, 0.0064, null, null, null, null, 0.0064, null, null, null, null, 0.0064, null, null, null, null, 0.0064, null, null, null, null, 0.0064, null, null, null, null, 0.0064, null, null, null, null, 0.0064, null, null, null, null, 0.0064, null, null, null, null, 0.0064, null, null, null, null, 0.0064, null, null, null, null, 0.0064, null, null, null, null, 0.0064, null, null, null, null, 0.0064, null, null, null, null, 0.0064, null, null, null, null, 0.0064, null, null, null, null, 0.0064, null, null, null, null, 0.0064, null, null, null, null, 0.0064, null, null, null, null, 0.0064, null, null, null, null, 0.0064, null, null, null, null, 0.0064, null, null, null, null, 0.008, null, null, null, null, 0.008, null, null, null, null, 0.008, null, null, null, null, 0.008, null, null, null, null, 0.008, null, null, null, null, 0.008, null, null, null, null, 0.008, null, null, null, null, 0.008, null, null, null, null, 0.008, null, null, null, null, 0.008, null, null, null, null, 0.008, null, null, null, null, 0.008, null, null, null, null, 0.008, null, null, null, null, 0.008, null, null, null, null, 0.008, null, null, null, null, 0.008, null, null, null, null, 0.008, null, null, null, null, 0.008, null, null, null, null, 0.008, null, null, null, null, 0.008, null, null, null, null, 0.008, null, null, null, null, 0.008, null, null, null, null, 0.008, null, null, null, null, 0.008, null, null, null, null, 0.008, null, null, null, null, 0.008, null, null, null, null, 0.008, null, null, null, null, 0.008, null, null, null, null, 0.008, null, null, null, null, 0.008, null, null, null, null, 0.008, null, null, null, null, 0.008, null, null, null, null, 0.008, null, null, null, null, 0.008, null, null, null, null, 0.008, null, null, null, null, 0.008, null, null, null, null, 0.008, null, null, null, null, 0.008, null, null, null, null, 0.008, null, null, null, null, 0.008, null, null, null, null, 0.008, null, null, null, null, 0.008, null, null, null, null, 0.008, null, null, null, null, 0.008, null, null, null, null, 0.008, null, null, null, null, 0.008, null, null, null, null, 0.008, null, null, null, null, 0.008, null, null, null, null, 0.008, null, null, null, null, 0.008, null, null, null, null, 0.008, null, null, null, null, 0.008, null, null, null, null, 0.008, null, null, null, null, 0.008, null, null, null, null, 0.008, null, null, null, null, 0.008, null, null, null, null, 0.008, null, null, null, null, 0.008, null, null, null, null, 0.008, null, null, null, null, 0.008, null, null, null, null, 0.008, null, null, null, null, 0.008, null, null, null, null, 0.008, null, null, null, null, 0.008, null, null, null, null, 0.008, null, null, null, null, 0.008, null, null, null, null, 0.008, null, null, null, null, 0.008, null, null, null, null, 0.008, null, null, null, null, 0.008, null, null, null, null, 0.008, null, null, null, null, 0.008, null, null, null, null, 0.008, null, null, null, null, 0.008, null, null, null, null, 0.008, null, null, null, null, 0.008, null, null, null, null, 0.008, null, null, null, null, 0.008, null, null, null, null, 0.008, null, null, null, null, 0.008, null, null, null, null, 0.008, null, null, null, null, 0.008, null, null, null, null, 0.008, null, null, null, null, 0.008, null, null, null, null, 0.008, null, null, null, null, 0.008, null, null, null, null, 0.008, null, null, null, null, 0.008, null, null, null, null, 0.008, null, null, null, null, 0.008, null, null, null, null, 0.008, null, null, null, null, 0.008, null, null, null, null, 0.008, null, null, null, null, 0.008, null, null, null, null, 0.008, null, null, null, null, 0.008, null, null, null, null, 0.008, null, null, null, null, 0.0096, null, null, null, null, 0.0096, null, null, null, null, 0.0096, null, null, null, null, 0.0096, null, null, null, null, 0.0096, null, null, null, null, 0.0096, null, null, null, null, 0.0096, null, null, null, null, 0.0096, null, null, null, null, 0.0096, null, null, null, null, 0.0096, null, null, null, null, 0.0096, null, null, null, null, 0.0096, null, null, null, null, 0.0096, null, null, null, null, 0.0096, null, null, null, null, 0.0096, null, null, null, null, 0.0096, null, null, null, null, 0.0096, null, null, null, null, 0.0096, null, null, null, null, 0.0096, null, null, null, null, 0.0096, null, null, null, null, 0.0096, null, null, null, null, 0.0096, null, null, null, null, 0.0096, null, null, null, null, 0.0112, null, null, null, null, 0.0112, null, null, null, null, 0.0112, null, null, null, null, 0.0112, null, null, null, null, 0.0112, null, null, null, null, 0.0112, null, null, null, null, 0.0112, null, null, null, null, 0.0112, null, null, null, null, 0.0112, null, null, null, null, 0.0112, null, null, null, null, 0.0112, null, null, null, null, 0.0112, null, null, null, null, 0.0112, null, null, null, null, 0.0112, null, null, null, null, 0.0112, null, null, null, null, 0.0112, null, null, null, null, 0.0112, null, null, null, null, 0.0112, null, null, null, null, 0.0112, null, null, null, null, 0.0112, null, null, null, null, 0.0112, null, null, null, null, 0.0112, null, null, null, null, 0.0128, null, null, null, null, 0.0128, null, null, null, null, 0.0128, null, null, null, null, 0.0128, null, null, null, null, 0.0128, null, null, null, null, 0.0128, null, null, null, null, 0.0128, null, null, null, null, 0.0128, null, null, null, null, 0.0128, null, null, null, null, 0.0128, null, null, null, null, 0.0128, null, null, null, null, 0.0128, null, null, null, null, 0.0128, null, null, null, null, 0.0128, null, null, null, null, 0.0128, null, null, null, null, 0.0128, null, null, null, null, 0.0128, null, null, null, null, 0.0128, null, null, null, null, 0.0128, null, null, null, null, 0.0128, null, null, null, null, 0.0128, null, null, null, null, 0.0128, null, null, null, null, 0.0128, null, null, null, null, 0.0128, null, null, null, null, 0.0128, null, null, null, null, 0.0128, null, null, null, null, 0.0128, null, null, null, null, 0.0128, null, null, null, null, 0.0128, null, null, null, null, 0.0128, null, null, null, null, 0.0128, null, null, null, null, 0.0128, null, null, null, null, 0.0128, null, null, null, null, 0.0128, null, null, null, null, 0.0128, null, null, null, null, 0.0128, null, null, null, null, 0.0128, null, null, null, null, 0.0128, null, null, null, null, 0.0128, null, null, null, null, 0.0128, null, null, null, null, 0.0128, null, null, null, null, 0.0128, null, null, null, null, 0.0128, null, null, null, null, 0.0128, null, null, null, null, 0.0128, null, null, null, null, 0.0128, null, null, null, null, 0.0128, null, null, null, null, 0.0128, null, null, null, null, 0.0128, null, null, null, null, 0.0128, null, null, null, null, 0.0128, null, null, null, null, 0.0128, null, null, null, null, 0.0128, null, null, null, null, 0.0128, null, null, null, null, 0.0128, null, null, null, null, 0.0128, null, null, null, null, 0.0128, null, null, null, null, 0.0128, null, null, null, null, 0.0128, null, null, null, null, 0.0128, null, null, null, null, 0.0128, null, null, null, null, 0.0128, null, null, null, null, 0.0128, null, null, null, null, 0.0128, null, null, null, null, 0.0128, null, null, null, null, 0.0128, null, null, null, null, 0.0128, null, null, null, null, 0.0128, null, null, null, null, 0.0128, null, null, null, null, 0.0128, null, null, null, null, 0.0128, null, null, null, null, 0.0128, null, null, null, null, 0.0128, null, null, null, null, 0.0128, null, null, null, null, 0.0128, null, null, null, null, 0.0128, null, null, null, null, 0.0128, null, null, null, null, 0.0128, null, null, null, null, 0.0128, null, null, null, null, 0.0128, null, null, null, null, 0.0128, null, null, null, null, 0.0128, null, null, null, null, 0.0128, null, null, null, null, 0.0128, null, null, null, null, 0.0128, null, null, null, null, 0.0128, null, null, null, null, 0.0128, null, null, null, null, 0.0128, null, null, null, null, 0.0128, null, null, null, null, 0.0128, null, null, null, null, 0.0128, null, null, null, null, 0.0128, null, null, null, null, 0.0128, null, null, null, null, 0.0128, null, null, null, null, 0.0128, null, null, null, null, 0.0128, null, null, null, null, 0.0128, null, null, null, null, 0.0128, null, null, null, null, 0.0128, null, null, null, null, 0.0128, null, null, null, null, 0.0128, null, null, null, null, 0.0128, null, null, null, null, 0.0128, null, null, null, null, 0.0128, null, null, null, null, 0.0128, null, null, null, null, 0.0128, null, null, null, null, 0.0128, null, null, null, null, 0.0128, null, null, null, null, 0.0128, null, null, null, null, 0.0128, null, null, null, null, 0.0128, null, null, null, null, 0.0128, null, null, null, null, 0.0128, null, null, null, null, 0.0128, null, null, null, null, 0.0128, null, null, null, null, 0.0128, null, null, null, null, 0.0128, null, null, null, null, 0.0128, null, null, null, null, 0.0128, null, null, null, null, 0.0128, null, null, null, null, 0.0128, null, null, null, null, 0.0128, null, null, null, null, 0.0128, null, null, null, null, 0.0128, null, null, null, null, 0.0128, null, null, null, null, 0.0128, null, null, null, null, 0.0128, null, null, null, null, 0.0128, null, null, null, null, 0.0128, null, null, null, null, 0.0128, null, null, null, null, 0.0128, null, null, null, null, 0.0128, null, null, null, null, 0.0128, null, null, null, null, 0.0144, null, null, null, null, 0.0144, null, null, null, null, 0.0144, null, null, null, null, 0.0144, null, null, null, null, 0.0144, null, null, null, null, 0.0144, null, null, null, null, 0.0144, null, null, null, null, 0.0144, null, null, null, null, 0.0144, null, null, null, null, 0.0144, null, null, null, null, 0.0144, null, null, null, null, 0.0144, null, null, null, null, 0.0144, null, null, null, null, 0.0144, null, null, null, null, 0.0144, null, null, null, null, 0.0144, null, null, null, null, 0.0144, null, null, null, null, 0.0144, null, null, null, null, 0.0144, null, null, null, null, 0.0144, null, null, null, null, 0.0144, null, null, null, null, 0.0144, null, null, null, null, 0.0144, null, null, null, null, 0.0144, null, null, null, null, 0.0144, null, null, null, null, 0.0144, null, null, null, null, 0.0144, null, null, null, null, 0.0144, null, null, null, null, 0.0144, null, null, null, null, 0.0144, null, null, null, null, 0.0144, null, null, null, null, 0.0144, null, null, null, null, 0.0144, null, null, null, null, 0.0144, null, null, null, null, 0.0144, null, null, null, null, 0.0144, null, null, null, null, 0.0144, null, null, null, null, 0.0144, null, null, null, null, 0.0144, null, null, null, null, 0.0144, null, null, null, null, 0.0144, null, null, null, null, 0.016, null, null, null, null, 0.016, null, null, null, null, 0.016, null, null, null, null, 0.016, null, null, null, null, 0.016, null, null, null, null, 0.0176, null, null, null, null, 0.0176, null, null, null, null, 0.0176, null, null, null, null, 0.0176, null, null, null, null, 0.0176, null, null, null, null, 0.0176, null, null, null, null, 0.0176, null, null, null, null, 0.0176, null, null, null, null, 0.0176, null, null, null, null, 0.0176, null, null, null, null, 0.0176, null, null, null, null, 0.0176, null, null, null, null, 0.0176, null, null, null, null, 0.0176, null, null, null, null, 0.0176, null, null, null, null, 0.0176, null, null, null, null, 0.0176, null, null, null, null, 0.0176, null, null, null, null, 0.0176, null, null, null, null, 0.0176, null, null, null, null, 0.0176, null, null, null, null, 0.0176, null, null, null, null, 0.0176, null, null, null, null, 0.0176, null, null, null, null, 0.0176, null, null, null, null, 0.0176, null, null, null, null, 0.0176, null, null, null, null, 0.0176, null, null, null, null, 0.0176, null, null, null, null, 0.0176, null, null, null, null, 0.0176, null, null, null, null, 0.0176, null, null, null, null, 0.0176, null, null, null, null, 0.0176, null, null, null, null, 0.0176, null, null, null, null, 0.0176, null, null, null, null, 0.0176, null, null, null, null, 0.0176, null, null, null, null, 0.0176, null, null, null, null, 0.0176, null, null, null, null, 0.0176, null, null, null, null, 0.0176, null, null, null, null, 0.0176, null, null, null, null, 0.0176, null, null, null, null, 0.0176, null, null, null, null, 0.0192, null, null, null, null, 0.0192, null, null, null, null, 0.0192, null, null, null, null, 0.0192, null, null, null, null, 0.0192, null, null, null, null, 0.0192, null, null, null, null, 0.0208, null, null, null, null, 0.0208, null, null, null, null, 0.0208, null, null, null, null, 0.0208, null, null, null, null, 0.0224, null, null, null, null, 0.0224, null, null, null, null, 0.0224, null, null, null, null, 0.0224, null, null, null, null, 0.0224, null, null, null, null, 0.024, null, null, null, null, 0.024, null, null, null, null, 0.024, null, null, null, null, 0.024, null, null, null, null, 0.024, null, null, null, null, 0.024, null, null, null, null, 0.024, null, null, null, null, 0.024, null, null, null, null, 0.024, null, null, null, null, 0.024, null, null, null, null, 0.024, null, null, null, null, 0.024, null, null, null, null, 0.024, null, null, null, null, 0.024, null, null, null, null, 0.024, null, null, null, null, 0.024, null, null, null, null, 0.024, null, null, null, null, 0.024, null, null, null, null, 0.024, null, null, null, null, 0.024, null, null, null, null, 0.024, null, null, null, null, 0.024, null, null, null, null, 0.024, null, null, null, null, 0.024, null, null, null, null, 0.024, null, null, null, null, 0.024, null, null, null, null, 0.024, null, null, null, null, 0.024, null, null, null, null, 0.024, null, null, null, null, 0.024, null, null, null, null, 0.024, null, null, null, null, 0.024, null, null, null, null, 0.024, null, null, null, null, 0.024, null, null, null, null, 0.024, null, null, null, null, 0.024, null, null, null, null, 0.024, null, null, null, null, 0.024, null, null, null, null, 0.024, null, null, null, null, 0.024, null, null, null, null, 0.024, null, null, null, null, 0.024, null, null, null, null, 0.024, null, null, null, null, 0.024, null, null, null, null, 0.0256, null, null, null, null, 0.0256, null, null, null, null, 0.0256, null, null, null, null, 0.0256, null, null, null, null, 0.0256, null, null, null, null, 0.0256, null, null, null, null, 0.0256, null, null, null, null, 0.0256, null, null, null, null, 0.0256, null, null, null, null, 0.0256, null, null, null, null, 0.0256, null, null, null, null, 0.0256, null, null, null, null, 0.0256, null, null, null, null, 0.0256, null, null, null, null, 0.0256, null, null, null, null, 0.0256, null, null, null, null, 0.0256, null, null, null, null, 0.0256, null, null, null, null, 0.0256, null, null, null, null, 0.0256, null, null, null, null, 0.0256, null, null, null, null, 0.0256, null, null, null, null, 0.0256, null, null, null, null, 0.0256, null, null, null, null, 0.0256, null, null, null, null, 0.0256, null, null, null, null, 0.0256, null, null, null, null, 0.0256, null, null, null, null, 0.0256, null, null, null, null, 0.0256, null, null, null, null, 0.0256, null, null, null, null, 0.0256, null, null, null, null, 0.0272, null, null, null, null, 0.0272, null, null, null, null, 0.0272, null, null, null, null, 0.0272, null, null, null, null, 0.0272, null, null, null, null, 0.0272, null, null, null, null, 0.0272, null, null, null, null, 0.0272, null, null, null]"
      ]
     },
     "execution_count": 8,
     "metadata": {},
     "output_type": "execute_result"
    }
   ],
   "source": [
    ";;for wriring new attack details to a file\n",
    "(def epsilon 0.2)\n",
    "(def attack-cycles-outputfile-logistic (str \"workspace/\" dataset-label \"/logistic-attacks-per-cycle.edn\"))\n",
    "           (attack-per-cycle flat-results-cumulative-logistic attack-cycles-outputfile-logistic epsilon attack-count )\n"
   ]
  },
  {
   "cell_type": "code",
   "execution_count": 9,
   "metadata": {},
   "outputs": [
    {
     "data": {
      "text/plain": [
       "0.0272"
      ]
     },
     "execution_count": 9,
     "metadata": {},
     "output_type": "execute_result"
    }
   ],
   "source": [
    "(def get-breach-probabilty (load-data (str \"workspace/\" dataset-label \"/logistic-attacks-per-cycle.edn\"))) ;;get the final breach probability written in the file\n",
    "(save-data-append-newline (str \"workspace/\" dataset-label \"/logistic-breach-probability.csv\") get-breach-probabilty) ;;append the value to another file for the operations after 100 runs"
   ]
  },
  {
   "cell_type": "code",
   "execution_count": 10,
   "metadata": {
    "scrolled": true
   },
   "outputs": [
    {
     "data": {
      "text/plain": [
       "0.47885999999999984"
      ]
     },
     "execution_count": 10,
     "metadata": {},
     "output_type": "execute_result"
    }
   ],
   "source": [
    ";;Average Accuracy for the attacked cycle period (Starting flat period of the logistic cycle)\n",
    "(def accuracy-details-file (load-data (str \"workspace/\" dataset-label \"/logistic-accuracy-details.edn\"))) ;;reading accuracy details from previously written file\n",
    "(def accuracy-for-attcked-period-file (str \"workspace/\" dataset-label \"/logistic-accuracy-attacked-period.csv\")) ;; write file of relavant accuracy details\n",
    "(def accuracy-details  (-> accuracy-details-file :sample-accuracy ))  \n",
    "(def full-cycle 1000)\n",
    "(def flat-record-length (:flat-record-length logistic-cumulative-noise-configuration))\n",
    "       (accuracy-for-flat-areas accuracy-details full-cycle flat-record-length record-count accuracy-for-attcked-period-file)"
   ]
  },
  {
   "cell_type": "code",
   "execution_count": null,
   "metadata": {},
   "outputs": [],
   "source": []
  }
 ],
 "metadata": {
  "kernelspec": {
   "display_name": "Clojure",
   "language": "clojure",
   "name": "clojure"
  },
  "language_info": {
   "codemirror_mode": "Clojure",
   "file_extension": ".clj",
   "mimetype": "text/x-clojure",
   "name": "Clojure",
   "nbconverter_exporter": "",
   "version": "1.9.0"
  },
  "toc": {
   "base_numbering": 1,
   "nav_menu": {},
   "number_sections": false,
   "sideBar": false,
   "skip_h1_title": false,
   "title_cell": "Table of Contents",
   "title_sidebar": "Contents",
   "toc_cell": false,
   "toc_position": {},
   "toc_section_display": false,
   "toc_window_display": false
  }
 },
 "nbformat": 4,
 "nbformat_minor": 2
}
